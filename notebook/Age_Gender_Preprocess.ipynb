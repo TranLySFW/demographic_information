{
 "cells": [
  {
   "cell_type": "markdown",
   "metadata": {
    "colab_type": "text",
    "id": "7HTJckS_OBs7"
   },
   "source": [
    "![](https://i.imgur.com/HlxKXDX.png)"
   ]
  },
  {
   "cell_type": "markdown",
   "metadata": {
    "colab_type": "text",
    "id": "F7aOu1jgOXWK"
   },
   "source": [
    "# Introduction \n",
    "\n",
    "Demographic information is becoming more and more influential in advertising industry nowsaday. Customers have certain buying patterns based on their ages and genders. For example, the young group pays attention in technology products ,otherwise the older group spend more on health care products and pharmaceuticals. This information helps the companies localize themselves, focusing at specific groups of population.\n",
    "\n",
    "In the other way, customers will also be received their advantages. They won't be supplied inappropriate advertisements. \n",
    "\n",
    "The questions is, how can we use demographic analysing in advertisements but keeping privacy of our customers. And AI algorithms is developed to supply a solution."
   ]
  },
  {
   "cell_type": "markdown",
   "metadata": {},
   "source": [
    "<br>"
   ]
  },
  {
   "cell_type": "markdown",
   "metadata": {
    "colab_type": "text",
    "id": "WqesvocYOdlV"
   },
   "source": [
    "# Dataset \n",
    "\n",
    "I'm using three main dataset, all of these datasets has been downloaded from Kaggle and Internet.  \n",
    "\n",
    "- [IMDB & Wiki](https://data.vision.ee.ethz.ch/cvl/rrothe/imdb-wiki/)\n",
    "- [UTKFace](https://susanqq.github.io/UTKFace/)\n",
    "- [Asian faces](https://github.com/JingchunCheng/All-Age-Faces-Dataset)\n",
    "\n",
    "There are a lot of unuseful images, and we need to clean it first."
   ]
  },
  {
   "cell_type": "markdown",
   "metadata": {},
   "source": [
    "<br>"
   ]
  },
  {
   "cell_type": "markdown",
   "metadata": {
    "colab_type": "text",
    "id": "NE_pL1vgQTiK"
   },
   "source": [
    "# Environment"
   ]
  },
  {
   "cell_type": "markdown",
   "metadata": {
    "colab_type": "text",
    "id": "42N6KZIvQXpM"
   },
   "source": [
    "Models are trainned by using PC, Google Colab or Cloud Virtual Machine."
   ]
  },
  {
   "cell_type": "markdown",
   "metadata": {
    "colab_type": "text",
    "id": "A38rE2eDQqCq"
   },
   "source": [
    "## Import libraries"
   ]
  },
  {
   "cell_type": "markdown",
   "metadata": {},
   "source": [
    "###  Tensorflow 2"
   ]
  },
  {
   "cell_type": "code",
   "execution_count": null,
   "metadata": {
    "colab": {
     "base_uri": "https://localhost:8080/",
     "height": 53
    },
    "colab_type": "code",
    "executionInfo": {
     "elapsed": 8844,
     "status": "ok",
     "timestamp": 1583718774592,
     "user": {
      "displayName": "Trần Lý",
      "photoUrl": "https://lh3.googleusercontent.com/a-/AOh14Gin8PsaWwVkSBWAfbuRyRJ7NHX5LlPgmxAqQO5q7A=s64",
      "userId": "11587077078896512227"
     },
     "user_tz": -420
    },
    "id": "Bjp9ApatVXLe",
    "outputId": "23ed69b8-499b-4733-adc7-eaa32d763757"
   },
   "outputs": [],
   "source": [
    "from __future__ import absolute_import, division, print_function, unicode_literals\n",
    "\n",
    "# Install TensorFlow\n",
    "try:\n",
    "    # %tensorflow_version only exists in Colab.\n",
    "    %tensorflow_version 2.x\n",
    "except Exception:\n",
    "    pass\n",
    "\n",
    "import tensorflow as tf\n",
    "print(tf.__version__)"
   ]
  },
  {
   "cell_type": "markdown",
   "metadata": {},
   "source": [
    "### other libs"
   ]
  },
  {
   "cell_type": "markdown",
   "metadata": {},
   "source": [
    "Install **dlib, face_recogintion** to detect human faces for the first time. From the second one, we should comment these pip commands."
   ]
  },
  {
   "cell_type": "code",
   "execution_count": null,
   "metadata": {},
   "outputs": [],
   "source": [
    "# !pip3 install dlib"
   ]
  },
  {
   "cell_type": "code",
   "execution_count": null,
   "metadata": {
    "colab": {
     "base_uri": "https://localhost:8080/",
     "height": 325
    },
    "colab_type": "code",
    "executionInfo": {
     "elapsed": 33676,
     "status": "ok",
     "timestamp": 1583718804270,
     "user": {
      "displayName": "Trần Lý",
      "photoUrl": "https://lh3.googleusercontent.com/a-/AOh14Gin8PsaWwVkSBWAfbuRyRJ7NHX5LlPgmxAqQO5q7A=s64",
      "userId": "11587077078896512227"
     },
     "user_tz": -420
    },
    "id": "VpoJPinjRSJe",
    "outputId": "e712ddba-5295-4dad-bdf0-5a1dd1e36499"
   },
   "outputs": [],
   "source": [
    "# !pip3 install face_recognition"
   ]
  },
  {
   "cell_type": "code",
   "execution_count": null,
   "metadata": {
    "colab": {},
    "colab_type": "code",
    "id": "ZEPHRls1VXL-"
   },
   "outputs": [],
   "source": [
    "import cv2  #openCV on python\n",
    "import dlib #library for facial detection\n",
    "import face_recognition #wrapper of dlib\n",
    "import os\n",
    "import shutil\n",
    "import pathlib\n",
    "import matplotlib.pyplot as plt #cv2.imshow error on GG colab and we use alternative of plt\n",
    "import numpy as np\n",
    "import pandas as pd \n",
    "import time \n",
    "import glob"
   ]
  },
  {
   "cell_type": "markdown",
   "metadata": {
    "colab_type": "text",
    "id": "By0f2hUvSOuo"
   },
   "source": [
    "## Google colab"
   ]
  },
  {
   "cell_type": "markdown",
   "metadata": {
    "colab_type": "text",
    "id": "g3vwvbznShfk"
   },
   "source": [
    "Colaboratory, or \"Colab\" for short, allows you to write and execute Python in your browser, with \n",
    "- Zero configuration required\n",
    "- Free access to GPUs\n",
    "- Easy sharing"
   ]
  },
  {
   "cell_type": "markdown",
   "metadata": {},
   "source": [
    "Mounting Google Drive to Colab for storing files"
   ]
  },
  {
   "cell_type": "code",
   "execution_count": null,
   "metadata": {
    "colab": {
     "base_uri": "https://localhost:8080/",
     "height": 127
    },
    "colab_type": "code",
    "executionInfo": {
     "elapsed": 23781,
     "status": "ok",
     "timestamp": 1583718839258,
     "user": {
      "displayName": "Trần Lý",
      "photoUrl": "https://lh3.googleusercontent.com/a-/AOh14Gin8PsaWwVkSBWAfbuRyRJ7NHX5LlPgmxAqQO5q7A=s64",
      "userId": "11587077078896512227"
     },
     "user_tz": -420
    },
    "id": "oLEulCgOSXMY",
    "outputId": "08d97373-f6c3-4b95-f18e-d7761cdf9d08"
   },
   "outputs": [],
   "source": [
    "from google.colab import drive\n",
    "drive.mount('/content/gdrive')"
   ]
  },
  {
   "cell_type": "markdown",
   "metadata": {
    "colab_type": "text",
    "id": "BI0JBtKCSnEZ"
   },
   "source": [
    "**Check GPU** existed or not"
   ]
  },
  {
   "cell_type": "code",
   "execution_count": null,
   "metadata": {
    "colab": {
     "base_uri": "https://localhost:8080/",
     "height": 35
    },
    "colab_type": "code",
    "executionInfo": {
     "elapsed": 945,
     "status": "ok",
     "timestamp": 1583718842336,
     "user": {
      "displayName": "Trần Lý",
      "photoUrl": "https://lh3.googleusercontent.com/a-/AOh14Gin8PsaWwVkSBWAfbuRyRJ7NHX5LlPgmxAqQO5q7A=s64",
      "userId": "11587077078896512227"
     },
     "user_tz": -420
    },
    "id": "PYPzEvmxSg0f",
    "outputId": "cc9746b1-1eed-434b-e819-622039bca6d4"
   },
   "outputs": [],
   "source": [
    "device_name = tf.test.gpu_device_name()\n",
    "if device_name != '/device:GPU:0':\n",
    "  raise SystemError('GPU device not found')\n",
    "print('Found GPU at: {}'.format(device_name))"
   ]
  },
  {
   "cell_type": "markdown",
   "metadata": {
    "colab_type": "text",
    "id": "16jEbIGJS3_G"
   },
   "source": [
    "**Checking CUDA version** with GG colab"
   ]
  },
  {
   "cell_type": "code",
   "execution_count": null,
   "metadata": {
    "colab": {
     "base_uri": "https://localhost:8080/",
     "height": 89
    },
    "colab_type": "code",
    "executionInfo": {
     "elapsed": 3299,
     "status": "ok",
     "timestamp": 1583638600020,
     "user": {
      "displayName": "Trần Lý",
      "photoUrl": "https://lh3.googleusercontent.com/a-/AOh14Gin8PsaWwVkSBWAfbuRyRJ7NHX5LlPgmxAqQO5q7A=s64",
      "userId": "11587077078896512227"
     },
     "user_tz": -420
    },
    "id": "NT2jKgTKTG8t",
    "outputId": "f263e4dc-de01-49b2-a2b0-f9de48fdc3b3"
   },
   "outputs": [],
   "source": [
    "# This cell can be commented once you checked the current CUDA version\n",
    "# CUDA: Let's check that Nvidia CUDA is already pre-installed and which version is it. In some time from now maybe you \n",
    "!/usr/local/cuda/bin/nvcc --version"
   ]
  },
  {
   "cell_type": "markdown",
   "metadata": {
    "colab_type": "text",
    "id": "iE91R-3MTb9f"
   },
   "source": [
    "**Install cuDNN according to the current CUDA version**"
   ]
  },
  {
   "cell_type": "code",
   "execution_count": null,
   "metadata": {
    "colab": {
     "base_uri": "https://localhost:8080/",
     "height": 260
    },
    "colab_type": "code",
    "executionInfo": {
     "elapsed": 19657,
     "status": "ok",
     "timestamp": 1583594618127,
     "user": {
      "displayName": "Trần Lý",
      "photoUrl": "https://lh3.googleusercontent.com/a-/AOh14Gin8PsaWwVkSBWAfbuRyRJ7NHX5LlPgmxAqQO5q7A=s64",
      "userId": "11587077078896512227"
     },
     "user_tz": -420
    },
    "id": "4bTeBS3GTe1i",
    "outputId": "3a608f32-7c55-4119-ca83-ec6755deb4bb"
   },
   "outputs": [],
   "source": [
    "# We're unzipping the cuDNN files from your Drive folder directly to the VM CUDA folders\n",
    "!tar -xzvf /content/gdrive/My\\ Drive/Final_project/darknet/cuDNN/cudnn-10.0-linux-x64-v7.5.0.56.tgz -C /usr/local/\n",
    "!chmod a+r /usr/local/cuda/include/cudnn.h\n",
    "\n",
    "# Now we check the version we already installed. Can comment this line on future runs\n",
    "!cat /usr/local/cuda/include/cudnn.h | grep CUDNN_MAJOR -A 2"
   ]
  },
  {
   "cell_type": "markdown",
   "metadata": {
    "colab_type": "text",
    "id": "O16a1M_iVXM4"
   },
   "source": [
    "<br>"
   ]
  },
  {
   "cell_type": "markdown",
   "metadata": {
    "colab_type": "text",
    "id": "c9GpB9ylVXOi"
   },
   "source": [
    "# UTKFace "
   ]
  },
  {
   "cell_type": "markdown",
   "metadata": {},
   "source": [
    "## Unzip dataset"
   ]
  },
  {
   "cell_type": "markdown",
   "metadata": {},
   "source": [
    "Redirect to the exact folder to unzip dataset"
   ]
  },
  {
   "cell_type": "code",
   "execution_count": null,
   "metadata": {},
   "outputs": [],
   "source": [
    "cd /home/tranlysfw/age_gender_prediction/dataset/utkface"
   ]
  },
  {
   "cell_type": "code",
   "execution_count": null,
   "metadata": {},
   "outputs": [],
   "source": [
    "unzip /home/tranlysfw/age_gender_prediction/dataset/utkface/utkface.zip"
   ]
  },
  {
   "cell_type": "markdown",
   "metadata": {},
   "source": [
    "## Preprocess"
   ]
  },
  {
   "cell_type": "markdown",
   "metadata": {},
   "source": [
    "We get *inthewild* folders with **three parts** to detect human faces. Repeting this process three times with different parts."
   ]
  },
  {
   "cell_type": "code",
   "execution_count": null,
   "metadata": {},
   "outputs": [],
   "source": [
    "utkface_folder_wild = pathlib.Path(os.path.join(project_path, \"inthewild/part1\")) #part1, part2, part3"
   ]
  },
  {
   "cell_type": "markdown",
   "metadata": {},
   "source": [
    "Because each file of utkface dataset include age and gender of that identity. So we just need to get name of files and paths"
   ]
  },
  {
   "cell_type": "code",
   "execution_count": null,
   "metadata": {},
   "outputs": [],
   "source": [
    "project_path = pathlib.Path('/home/tranlysfw/age_gender_prediction/dataset/utkface')\n",
    "utk_preprocess = pathlib.Path(\"/home/tranlysfw/age_gender_prediction/dataset/utkface\")\n",
    "utk_male = pathlib.Path(os.path.join(utk_preprocess), \"gender\\\\male\\\\\")\n",
    "utk_female = pathlib.Path(os.path.join(utk_preprocess), \"gender\\\\female\\\\\")"
   ]
  },
  {
   "cell_type": "markdown",
   "metadata": {},
   "source": [
    "<br>"
   ]
  },
  {
   "cell_type": "markdown",
   "metadata": {},
   "source": [
    "## Split names into lists"
   ]
  },
  {
   "cell_type": "markdown",
   "metadata": {},
   "source": [
    "Get all paths of files on utkface dataset and its name. Extracting age, gender and race of human in the picture based on file names."
   ]
  },
  {
   "cell_type": "code",
   "execution_count": null,
   "metadata": {
    "colab": {},
    "colab_type": "code",
    "id": "2kar8R49VXOx"
   },
   "outputs": [],
   "source": [
    "img_paths = []\n",
    "utkface_age = []\n",
    "utkface_gender = []\n",
    "utkface_race = []\n",
    "\n",
    "for elem in utkface_folder.glob(\"*.jpg\"):\n",
    "    img_paths.append(elem)\n",
    "    filename_splited = elem.name.split(\"_\")\n",
    "    utkface_age.append(filename_splited[0])\n",
    "    utkface_gender.append(filename_splited[1])\n",
    "    utkface_race.append(filename_splited[2])"
   ]
  },
  {
   "cell_type": "markdown",
   "metadata": {},
   "source": [
    "Assign it to gender"
   ]
  },
  {
   "cell_type": "code",
   "execution_count": null,
   "metadata": {
    "colab": {},
    "colab_type": "code",
    "id": "C7NxfpvZVXR2",
    "outputId": "4e7fd9c5-a0aa-476c-db16-3983050dc48c",
    "scrolled": true
   },
   "outputs": [],
   "source": [
    "img_paths = []\n",
    "utkface_age = []\n",
    "utkface_gender = []\n",
    "utkface_race = []\n",
    "i = 0\n",
    "alpha = 1.5\n",
    "\n",
    "for elem in utkface_folder_wild.glob(\"*.jpg\"):\n",
    "    img = cv2.imread(str(elem.absolute()))\n",
    "    height, width, channel = img.shape\n",
    "    \n",
    "    face_locations = face_recognition.face_locations(img)\n",
    "    \n",
    "    for face in face_locations:\n",
    "        top, right, bottom, left = face  \n",
    "        center_y, center_x = int((top + bottom) / 2), int((right + left) / 2)\n",
    "        border = int((right - left) * alpha)\n",
    "        \n",
    "        x_right, y_up = int(center_x + border / 2), int(center_y - border / 2)\n",
    "        x_left, y_down = int(center_x - border / 2), int(center_y + border / 2)\n",
    "        \n",
    "        if x_left > 0 and x_left + border < width and y_up > 0 and y_up + border < height:\n",
    "            crop_face = img[y_up: y_up + border, x_left: x_left + border]\n",
    "            resized = cv2.resize(crop_face, (224, 224), interpolation=cv2.INTER_AREA)\n",
    "            \n",
    "            filename_splited = elem.name.split(\"_\")\n",
    "            utkface_age = filename_splited[0]\n",
    "            utkface_gender = filename_splited[1]\n",
    "#             print(utkface_gender)\n",
    "            \n",
    "            if int(utkface_gender) == 0:\n",
    "                path = pathlib.Path(os.path.join(utk_male), elem.name)\n",
    "#                 print(path)\n",
    "                cv2.imwrite(str(path), resized)\n",
    "            elif int(utkface_gender) == 1:\n",
    "                path = pathlib.Path(os.path.join(utk_female), elem.name)\n",
    "#                 print(path)\n",
    "                cv2.imwrite(str(path), resized)\n",
    "    \n",
    "    i += 1\n",
    "    if i % 1000 == 0: \n",
    "        print(i)\n"
   ]
  },
  {
   "cell_type": "markdown",
   "metadata": {},
   "source": [
    "Copy relevant files to age folder"
   ]
  },
  {
   "cell_type": "code",
   "execution_count": null,
   "metadata": {
    "colab": {},
    "colab_type": "code",
    "id": "H3PFaff8VXSC"
   },
   "outputs": [],
   "source": [
    "utk_age_path = pathlib.Path(\"/home/tranlysfw/age_gender_prediction/dataset/utkface/age\")"
   ]
  },
  {
   "cell_type": "code",
   "execution_count": null,
   "metadata": {
    "colab": {},
    "colab_type": "code",
    "id": "GONtAmWZVXSJ"
   },
   "outputs": [],
   "source": [
    "i = 0\n",
    "for elem in utk_female.glob(\"*.jpg\"):\n",
    "    filename_splited = elem.name.split(\"_\")\n",
    "    utkface_age = int(filename_splited[0])\n",
    "    utkface_gender = int(filename_splited[1])\n",
    "    \n",
    "    path = \"\"\n",
    "    if utkface_age <= 10:\n",
    "        path= pathlib.Path(os.path.join(utk_age_path), \"0\")\n",
    "    elif utkface_age > 10 and utkface_age <= 20:\n",
    "        path= pathlib.Path(os.path.join(utk_age_path), \"1\")\n",
    "    elif utkface_age > 20 and utkface_age <= 30:\n",
    "        path= pathlib.Path(os.path.join(utk_age_path), \"2\")\n",
    "    elif utkface_age > 30 and utkface_age <= 40:\n",
    "        path= pathlib.Path(os.path.join(utk_age_path), \"3\")\n",
    "    elif utkface_age > 40 and utkface_age <= 50:\n",
    "        path= pathlib.Path(os.path.join(utk_age_path), \"4\")\n",
    "    elif utkface_age > 50 and utkface_age <= 60:\n",
    "        path= pathlib.Path(os.path.join(utk_age_path), \"5\")\n",
    "    elif utkface_age > 60 and utkface_age <= 70:\n",
    "        path= pathlib.Path(os.path.join(utk_age_path), \"6\")\n",
    "    elif utkface_age > 70:\n",
    "        path= pathlib.Path(os.path.join(utk_age_path), \"7\")\n",
    "        \n",
    "    shutil.copy(str(elem.absolute()), path)   \n",
    "    \n",
    "    if i == 10:\n",
    "        break\n",
    "    \n",
    "    "
   ]
  },
  {
   "cell_type": "markdown",
   "metadata": {},
   "source": [
    "<br>"
   ]
  },
  {
   "cell_type": "markdown",
   "metadata": {
    "colab_type": "text",
    "id": "ger5cDtsmLzr"
   },
   "source": [
    "# Wiki"
   ]
  },
  {
   "cell_type": "markdown",
   "metadata": {
    "colab_type": "text",
    "id": "6ozPvLIpVvLR"
   },
   "source": [
    "The dataset is great for research purposes. It contains more than 500 thousand+ images of faces. But the dataset is not ready for any Machine Learning algorithm. There are some problems with the dataset.\n",
    "\n",
    "- All the images are of different size\n",
    "- Some of the images are completely corrupted\n",
    "- Some images don't have any faces\n",
    "- Some of the ages are invalid\n",
    "- The distribution between the gender is not equal(there are more male faces than female faces)\n",
    "- Also, the meta information is in .mat format. Reading .mat files in python is a tedious process.\n"
   ]
  },
  {
   "cell_type": "markdown",
   "metadata": {
    "colab_type": "text",
    "id": "xn1gsOto4sNH"
   },
   "source": [
    "## Unzip dataset"
   ]
  },
  {
   "cell_type": "markdown",
   "metadata": {
    "colab_type": "text",
    "id": "QztNuEzPWqt3"
   },
   "source": [
    "After downloading, we've got folder wiki_crop. Unzip it to wiki_crop folder."
   ]
  },
  {
   "cell_type": "code",
   "execution_count": null,
   "metadata": {},
   "outputs": [],
   "source": [
    "cd /home/tranlysfw/age_gender_prediction/dataset/wiki"
   ]
  },
  {
   "cell_type": "code",
   "execution_count": null,
   "metadata": {},
   "outputs": [],
   "source": [
    "unzip /home/tranlysfw/age_gender_prediction/dataset/wiki/wiki_crop.zip"
   ]
  },
  {
   "cell_type": "markdown",
   "metadata": {},
   "source": [
    "## Create meta.csv"
   ]
  },
  {
   "cell_type": "markdown",
   "metadata": {
    "colab_type": "text",
    "id": "j3vpPK9EXAj0"
   },
   "source": [
    "Running below script and we have file meta.csv. It split file_name to useful information"
   ]
  },
  {
   "cell_type": "code",
   "execution_count": null,
   "metadata": {
    "colab": {},
    "colab_type": "code",
    "id": "cdhIZB1bWoQ0"
   },
   "outputs": [],
   "source": [
    "import numpy as np\n",
    "from scipy.io import loadmat\n",
    "import pandas as pd\n",
    "import datetime as date\n",
    "from dateutil.relativedelta import relativedelta\n",
    "\n",
    "cols = ['age', 'gender', 'path', 'face_score1', 'face_score2']\n",
    "\n",
    "imdb_mat = 'imdb_crop/imdb.mat'\n",
    "wiki_mat = 'wiki_crop/wiki.mat'\n",
    "\n",
    "imdb_data = loadmat(imdb_mat)\n",
    "wiki_data = loadmat(wiki_mat)\n",
    "\n",
    "del imdb_mat, wiki_mat\n",
    "\n",
    "imdb = imdb_data['imdb']\n",
    "wiki = wiki_data['wiki']\n",
    "\n",
    "imdb_photo_taken = imdb[0][0][1][0]\n",
    "imdb_full_path = imdb[0][0][2][0]\n",
    "imdb_gender = imdb[0][0][3][0]\n",
    "imdb_face_score1 = imdb[0][0][6][0]\n",
    "imdb_face_score2 = imdb[0][0][7][0]\n",
    "\n",
    "wiki_photo_taken = wiki[0][0][1][0]\n",
    "wiki_full_path = wiki[0][0][2][0]\n",
    "wiki_gender = wiki[0][0][3][0]\n",
    "wiki_face_score1 = wiki[0][0][6][0]\n",
    "wiki_face_score2 = wiki[0][0][7][0]\n",
    "\n",
    "imdb_path = []\n",
    "wiki_path = []\n",
    "\n",
    "for path in imdb_full_path:\n",
    "    imdb_path.append('imdb_crop/' + path[0])\n",
    "\n",
    "for path in wiki_full_path:\n",
    "    wiki_path.append('wiki_crop/' + path[0])\n",
    "\n",
    "imdb_genders = []\n",
    "wiki_genders = []\n",
    "\n",
    "for n in range(len(imdb_gender)):\n",
    "    if imdb_gender[n] == 1:\n",
    "        imdb_genders.append('male')\n",
    "    else:\n",
    "        imdb_genders.append('female')\n",
    "\n",
    "for n in range(len(wiki_gender)):\n",
    "    if wiki_gender[n] == 1:\n",
    "        wiki_genders.append('male')\n",
    "    else:\n",
    "        wiki_genders.append('female')\n",
    "\n",
    "imdb_dob = []\n",
    "wiki_dob = []\n",
    "\n",
    "for file in imdb_path:\n",
    "    temp = file.split('_')[3]\n",
    "    temp = temp.split('-')\n",
    "    if len(temp[1]) == 1:\n",
    "        temp[1] = '0' + temp[1]\n",
    "    if len(temp[2]) == 1:\n",
    "        temp[2] = '0' + temp[2]\n",
    "\n",
    "    if temp[1] == '00':\n",
    "        temp[1] = '01'\n",
    "    if temp[2] == '00':\n",
    "        temp[2] = '01'\n",
    "    \n",
    "    imdb_dob.append('-'.join(temp))\n",
    "\n",
    "for file in wiki_path:\n",
    "    wiki_dob.append(file.split('_')[2])\n",
    "\n",
    "\n",
    "imdb_age = []\n",
    "wiki_age = []\n",
    "\n",
    "for i in range(len(imdb_dob)):\n",
    "    try:\n",
    "        d1 = date.datetime.strptime(imdb_dob[i][0:10], '%Y-%m-%d')\n",
    "        d2 = date.datetime.strptime(str(imdb_photo_taken[i]), '%Y')\n",
    "        rdelta = relativedelta(d2, d1)\n",
    "        diff = rdelta.years\n",
    "    except Exception as ex:\n",
    "        print(ex)\n",
    "        diff = -1\n",
    "    imdb_age.append(diff)\n",
    "\n",
    "for i in range(len(wiki_dob)):\n",
    "    try:\n",
    "        d1 = date.datetime.strptime(wiki_dob[i][0:10], '%Y-%m-%d')\n",
    "        d2 = date.datetime.strptime(str(wiki_photo_taken[i]), '%Y')\n",
    "        rdelta = relativedelta(d2, d1)\n",
    "        diff = rdelta.years\n",
    "    except Exception as ex:\n",
    "        print(ex)\n",
    "        diff = -1\n",
    "    wiki_age.append(diff)\n",
    "\n",
    "final_imdb = np.vstack((imdb_age, imdb_genders, imdb_path, imdb_face_score1, imdb_face_score2)).T\n",
    "final_wiki = np.vstack((wiki_age, wiki_genders, wiki_path, wiki_face_score1, wiki_face_score2)).T\n",
    "\n",
    "final_imdb_df = pd.DataFrame(final_imdb)\n",
    "final_wiki_df = pd.DataFrame(final_wiki)\n",
    "\n",
    "final_imdb_df.columns = cols\n",
    "final_wiki_df.columns = cols\n",
    "\n",
    "meta = pd.concat((final_imdb_df, final_wiki_df))\n",
    "meta = meta[meta['face_score1'] != '-inf']\n",
    "meta = meta[meta['face_score2'] == 'nan']\n",
    "meta = meta.drop(['face_score1', 'face_score2'], axis=1)\n",
    "meta = meta.sample(frac=1)\n",
    "\n",
    "meta.to_csv('meta.csv', index=False)\n"
   ]
  },
  {
   "cell_type": "markdown",
   "metadata": {
    "colab_type": "text",
    "id": "V5FN-zQWYFlE"
   },
   "source": [
    "Reread meta.csv file and surveying some information"
   ]
  },
  {
   "cell_type": "code",
   "execution_count": null,
   "metadata": {
    "colab": {
     "base_uri": "https://localhost:8080/",
     "height": 204
    },
    "colab_type": "code",
    "executionInfo": {
     "elapsed": 1779,
     "status": "ok",
     "timestamp": 1583716879891,
     "user": {
      "displayName": "Trần Lý",
      "photoUrl": "https://lh3.googleusercontent.com/a-/AOh14Gin8PsaWwVkSBWAfbuRyRJ7NHX5LlPgmxAqQO5q7A=s64",
      "userId": "11587077078896512227"
     },
     "user_tz": -420
    },
    "id": "JIAVLEKOYMgq",
    "outputId": "79c9dbc5-493c-4a17-b993-3d0c9f6a22e7"
   },
   "outputs": [],
   "source": [
    "df = pd.read_csv(\"/home/tranlysfw/age_gender_prediction/meta.csv\")\n",
    "df.head()"
   ]
  },
  {
   "cell_type": "code",
   "execution_count": null,
   "metadata": {
    "colab": {},
    "colab_type": "code",
    "id": "5vmoLRtocRoG"
   },
   "outputs": [],
   "source": [
    "file_path = df['path']\n",
    "wiki_age = df['age']\n",
    "wiki_gender = df['gender']"
   ]
  },
  {
   "cell_type": "markdown",
   "metadata": {
    "colab_type": "text",
    "id": "kP_lcL8HXfj0"
   },
   "source": [
    "## Split images in wiki dataset to age and gender folders"
   ]
  },
  {
   "cell_type": "markdown",
   "metadata": {
    "colab_type": "text",
    "id": "mJi-r_XVYjap"
   },
   "source": [
    "Define the root of wiki dataset"
   ]
  },
  {
   "cell_type": "code",
   "execution_count": null,
   "metadata": {
    "colab": {},
    "colab_type": "code",
    "id": "UJeL_IC1hIM8"
   },
   "outputs": [],
   "source": [
    "wiki_path = pathlib.Path(\"/home/tranlysfw/age_gender_prediction/dataset/wiki\")\n",
    "wiki_male = pathlib.Path(\"/home/tranlysfw/age_gender_prediction/dataset/wiki/gender/male\")\n",
    "wiki_female = pathlib.Path(\"/home/tranlysfw/age_gender_prediction/dataset/wiki/gender/female\")\n",
    "wiki_age_path = pathlib.Path(\"/home/tranlysfw/age_gender_prediction//dataset/wiki/age\")"
   ]
  },
  {
   "cell_type": "markdown",
   "metadata": {
    "colab_type": "text",
    "id": "tuyKCicVY2Gd"
   },
   "source": [
    "After all, we use face_recognition lib to make sure it's getting exact human faces, not anything else. Then copying to suitable foldes"
   ]
  },
  {
   "cell_type": "code",
   "execution_count": null,
   "metadata": {
    "colab": {
     "base_uri": "https://localhost:8080/",
     "height": 1000
    },
    "colab_type": "code",
    "executionInfo": {
     "elapsed": 14070644,
     "status": "ok",
     "timestamp": 1583697685554,
     "user": {
      "displayName": "Trần Lý",
      "photoUrl": "https://lh3.googleusercontent.com/a-/AOh14Gin8PsaWwVkSBWAfbuRyRJ7NHX5LlPgmxAqQO5q7A=s64",
      "userId": "11587077078896512227"
     },
     "user_tz": -420
    },
    "id": "ruLjPN90hmv1",
    "outputId": "02dc9007-3ae9-4a51-a642-aeb2ff0dfe19"
   },
   "outputs": [],
   "source": [
    "i = 200000\n",
    "alpha = 1.5 # ratio of margin from faces\n",
    "face_count = 0\n",
    "j = 200000\n",
    "for elem in file_path[i:]:\n",
    "    # print(\"i\", i)\n",
    "    # print(\"name\",elem)\n",
    "    dataset = elem.split(\"/\")[0]\n",
    "    # print(\"dataset\", dataset)\n",
    "\n",
    "    if dataset == \"wiki_crop\":\n",
    "        # print(\"equal\")\n",
    "        abs_file_path = pathlib.Path(wiki_path, elem)\n",
    "#         print(\"link\", abs_file_path)\n",
    "        img = cv2.imread(str(abs_file_path.absolute()))\n",
    "        \n",
    "        if img is not None:\n",
    "            height, width, channel = img.shape\n",
    "            face_locations = face_recognition.face_locations(img)\n",
    "\n",
    "            for face in face_locations:\n",
    "                face_count += 1\n",
    "                # print(\"face detected\")\n",
    "                top, right, bottom, left = face  \n",
    "                center_y, center_x = int((top + bottom) / 2), int((right + left) / 2)\n",
    "                border = int((right - left) * alpha)\n",
    "              \n",
    "                x_right, y_up = int(center_x + border / 2), int(center_y - border / 2)\n",
    "                x_left, y_down = int(center_x - border / 2), int(center_y + border / 2)\n",
    "                \n",
    "                if x_left > 0 and x_left + border < width and y_up > 0 and y_up + border < height:\n",
    "                    crop_face = img[y_up: y_up + border, x_left: x_left + border]\n",
    "                    resized = cv2.resize(crop_face, (224, 224), interpolation=cv2.INTER_AREA)\n",
    "                    \n",
    "#                     print(\"gender\", wiki_gender[i])\n",
    "                    if wiki_gender[i] == \"male\":\n",
    "                        path = pathlib.Path(wiki_male, elem.split(\"/\")[2])\n",
    "                        # print(\"save\",path)\n",
    "                        cv2.imwrite(str(path), resized)\n",
    "                    elif wiki_gender[i] == \"female\":\n",
    "                        path = pathlib.Path(wiki_female,elem.split(\"/\")[2])\n",
    "                        # print(\"save\",path)\n",
    "                        cv2.imwrite(str(path), resized)\n",
    "\n",
    "                    age = wiki_age[i]\n",
    "#                     print(\"age\", age)\n",
    "                    path_age = \"\"\n",
    "                    if age <= 10:\n",
    "                        path_age = pathlib.Path(wiki_age_path,\"0\", elem.split(\"/\")[2])\n",
    "                    elif age > 10 and age <= 20:\n",
    "                        path_age= pathlib.Path(wiki_age_path, \"1\", elem.split(\"/\")[2])\n",
    "                    elif age > 20 and age <= 30:\n",
    "                        path_age= pathlib.Path(wiki_age_path, \"2\", elem.split(\"/\")[2])\n",
    "                    elif age > 30 and age <= 40:\n",
    "                        path_age= pathlib.Path(wiki_age_path, \"3\", elem.split(\"/\")[2])\n",
    "                    elif age > 40 and age <= 50:\n",
    "                        path_age= pathlib.Path(wiki_age_path, \"4\", elem.split(\"/\")[2])\n",
    "                    elif age > 50 and age <= 60:\n",
    "                        path_age= pathlib.Path(wiki_age_path, \"5\", elem.split(\"/\")[2])\n",
    "                    elif age > 60 and age <= 70:\n",
    "                        path_age= pathlib.Path(wiki_age_path, \"6\", elem.split(\"/\")[2])\n",
    "                    elif age > 70:\n",
    "                        path_age= pathlib.Path(wiki_age_path, \"7\", elem.split(\"/\")[2])\n",
    "                    # print(\"path_age\",path_age)\n",
    "                    cv2.imwrite(str(path_age), resized)\n",
    "    i += 1\n",
    "    if i  % 1000 == 0:\n",
    "      print(\"loop\",i)\n",
    "      print(\"Face count\", face_count)\n",
    "         "
   ]
  },
  {
   "cell_type": "markdown",
   "metadata": {},
   "source": [
    "<br>"
   ]
  },
  {
   "cell_type": "markdown",
   "metadata": {},
   "source": [
    "## Test wiki dataset"
   ]
  },
  {
   "cell_type": "markdown",
   "metadata": {},
   "source": [
    "Counting the number of files which are unzipped"
   ]
  },
  {
   "cell_type": "code",
   "execution_count": null,
   "metadata": {},
   "outputs": [],
   "source": [
    "len(glob.glob(\"/home/tranlysfw/age_gender_prediction/dataset/wiki/age/*/*.jpg\", recursive=True))"
   ]
  },
  {
   "cell_type": "code",
   "execution_count": null,
   "metadata": {
    "colab": {
     "base_uri": "https://localhost:8080/",
     "height": 35
    },
    "colab_type": "code",
    "executionInfo": {
     "elapsed": 60813,
     "status": "ok",
     "timestamp": 1583717422574,
     "user": {
      "displayName": "Trần Lý",
      "photoUrl": "https://lh3.googleusercontent.com/a-/AOh14Gin8PsaWwVkSBWAfbuRyRJ7NHX5LlPgmxAqQO5q7A=s64",
      "userId": "11587077078896512227"
     },
     "user_tz": -420
    },
    "id": "g5MZ9irHN72T",
    "outputId": "948b8d3d-1339-493d-ec16-43be2c6f92e4",
    "scrolled": false
   },
   "outputs": [],
   "source": [
    "len(glob.glob(\"/home/tranlysfw/age_gender_prediction/dataset/wiki/gender/*/*.jpg\", recursive=True))"
   ]
  },
  {
   "cell_type": "markdown",
   "metadata": {},
   "source": [
    "If there is something wrong, we should remove it before rerunning"
   ]
  },
  {
   "cell_type": "code",
   "execution_count": null,
   "metadata": {},
   "outputs": [],
   "source": [
    "rm -R /home/tranlysfw/age_gender_prediction/dataset/wiki/age/7/*.jpg"
   ]
  },
  {
   "cell_type": "markdown",
   "metadata": {},
   "source": [
    "Get some images from dataset"
   ]
  },
  {
   "cell_type": "code",
   "execution_count": null,
   "metadata": {},
   "outputs": [],
   "source": [
    "img_test = list(glob.glob(\"/home/tranlysfw/age_gender_prediction/dataset/wiki/gender/female/*.jpg\", recursive=True))"
   ]
  },
  {
   "cell_type": "code",
   "execution_count": null,
   "metadata": {},
   "outputs": [],
   "source": [
    "test = cv2.imread(img[1061])\n",
    "plt.imshow(test)"
   ]
  },
  {
   "cell_type": "markdown",
   "metadata": {},
   "source": [
    "<br>"
   ]
  },
  {
   "cell_type": "markdown",
   "metadata": {
    "colab_type": "text",
    "id": "CHJSJU4Ua-N3"
   },
   "source": [
    "# IMDB"
   ]
  },
  {
   "cell_type": "markdown",
   "metadata": {
    "colab_type": "text",
    "id": "Gy-79tKEbE2f"
   },
   "source": [
    "We process for IMDB dataset at exactly steps with wiki"
   ]
  },
  {
   "cell_type": "markdown",
   "metadata": {},
   "source": [
    "## Unzip dataset"
   ]
  },
  {
   "cell_type": "markdown",
   "metadata": {
    "colab_type": "text",
    "id": "EpLAgvwJblEq"
   },
   "source": [
    "After downloading, we've got folder wiki_crop. We change directory to the same folder and run below script"
   ]
  },
  {
   "cell_type": "code",
   "execution_count": null,
   "metadata": {
    "colab": {
     "base_uri": "https://localhost:8080/",
     "height": 35
    },
    "colab_type": "code",
    "executionInfo": {
     "elapsed": 667,
     "status": "ok",
     "timestamp": 1583718853529,
     "user": {
      "displayName": "Trần Lý",
      "photoUrl": "https://lh3.googleusercontent.com/a-/AOh14Gin8PsaWwVkSBWAfbuRyRJ7NHX5LlPgmxAqQO5q7A=s64",
      "userId": "11587077078896512227"
     },
     "user_tz": -420
    },
    "id": "osH7dmO_blFA",
    "outputId": "54550001-3fd6-4df9-850c-bbeffdd2adc4"
   },
   "outputs": [],
   "source": [
    "cd /home/tranlysfw/age_gender_prediction/dataset/imdb"
   ]
  },
  {
   "cell_type": "code",
   "execution_count": null,
   "metadata": {},
   "outputs": [],
   "source": [
    "unzip /home/tranlysfw/age_gender_prediction/dataset/imdb_crop.zip"
   ]
  },
  {
   "cell_type": "markdown",
   "metadata": {
    "colab": {},
    "colab_type": "code",
    "id": "Obd3D8vYblFY"
   },
   "source": [
    "## Create meta.csv"
   ]
  },
  {
   "cell_type": "markdown",
   "metadata": {
    "colab_type": "text",
    "id": "Y0IbzgfUb30H"
   },
   "source": [
    "Running below script and we have file meta.csv"
   ]
  },
  {
   "cell_type": "code",
   "execution_count": null,
   "metadata": {
    "colab": {},
    "colab_type": "code",
    "id": "BhvLAQa6b30g"
   },
   "outputs": [],
   "source": [
    "import numpy as np\n",
    "from scipy.io import loadmat\n",
    "import pandas as pd\n",
    "import datetime as date\n",
    "from dateutil.relativedelta import relativedelta\n",
    "\n",
    "cols = ['age', 'gender', 'path', 'face_score1', 'face_score2']\n",
    "\n",
    "imdb_mat = 'imdb_crop/imdb.mat'\n",
    "wiki_mat = 'wiki_crop/wiki.mat'\n",
    "\n",
    "imdb_data = loadmat(imdb_mat)\n",
    "wiki_data = loadmat(wiki_mat)\n",
    "\n",
    "del imdb_mat, wiki_mat\n",
    "\n",
    "imdb = imdb_data['imdb']\n",
    "wiki = wiki_data['wiki']\n",
    "\n",
    "imdb_photo_taken = imdb[0][0][1][0]\n",
    "imdb_full_path = imdb[0][0][2][0]\n",
    "imdb_gender = imdb[0][0][3][0]\n",
    "imdb_face_score1 = imdb[0][0][6][0]\n",
    "imdb_face_score2 = imdb[0][0][7][0]\n",
    "\n",
    "wiki_photo_taken = wiki[0][0][1][0]\n",
    "wiki_full_path = wiki[0][0][2][0]\n",
    "wiki_gender = wiki[0][0][3][0]\n",
    "wiki_face_score1 = wiki[0][0][6][0]\n",
    "wiki_face_score2 = wiki[0][0][7][0]\n",
    "\n",
    "imdb_path = []\n",
    "wiki_path = []\n",
    "\n",
    "for path in imdb_full_path:\n",
    "    imdb_path.append('imdb_crop/' + path[0])\n",
    "\n",
    "for path in wiki_full_path:\n",
    "    wiki_path.append('wiki_crop/' + path[0])\n",
    "\n",
    "imdb_genders = []\n",
    "wiki_genders = []\n",
    "\n",
    "for n in range(len(imdb_gender)):\n",
    "    if imdb_gender[n] == 1:\n",
    "        imdb_genders.append('male')\n",
    "    else:\n",
    "        imdb_genders.append('female')\n",
    "\n",
    "for n in range(len(wiki_gender)):\n",
    "    if wiki_gender[n] == 1:\n",
    "        wiki_genders.append('male')\n",
    "    else:\n",
    "        wiki_genders.append('female')\n",
    "\n",
    "imdb_dob = []\n",
    "wiki_dob = []\n",
    "\n",
    "for file in imdb_path:\n",
    "    temp = file.split('_')[3]\n",
    "    temp = temp.split('-')\n",
    "    if len(temp[1]) == 1:\n",
    "        temp[1] = '0' + temp[1]\n",
    "    if len(temp[2]) == 1:\n",
    "        temp[2] = '0' + temp[2]\n",
    "\n",
    "    if temp[1] == '00':\n",
    "        temp[1] = '01'\n",
    "    if temp[2] == '00':\n",
    "        temp[2] = '01'\n",
    "    \n",
    "    imdb_dob.append('-'.join(temp))\n",
    "\n",
    "for file in wiki_path:\n",
    "    wiki_dob.append(file.split('_')[2])\n",
    "\n",
    "\n",
    "imdb_age = []\n",
    "wiki_age = []\n",
    "\n",
    "for i in range(len(imdb_dob)):\n",
    "    try:\n",
    "        d1 = date.datetime.strptime(imdb_dob[i][0:10], '%Y-%m-%d')\n",
    "        d2 = date.datetime.strptime(str(imdb_photo_taken[i]), '%Y')\n",
    "        rdelta = relativedelta(d2, d1)\n",
    "        diff = rdelta.years\n",
    "    except Exception as ex:\n",
    "        print(ex)\n",
    "        diff = -1\n",
    "    imdb_age.append(diff)\n",
    "\n",
    "for i in range(len(wiki_dob)):\n",
    "    try:\n",
    "        d1 = date.datetime.strptime(wiki_dob[i][0:10], '%Y-%m-%d')\n",
    "        d2 = date.datetime.strptime(str(wiki_photo_taken[i]), '%Y')\n",
    "        rdelta = relativedelta(d2, d1)\n",
    "        diff = rdelta.years\n",
    "    except Exception as ex:\n",
    "        print(ex)\n",
    "        diff = -1\n",
    "    wiki_age.append(diff)\n",
    "\n",
    "final_imdb = np.vstack((imdb_age, imdb_genders, imdb_path, imdb_face_score1, imdb_face_score2)).T\n",
    "final_wiki = np.vstack((wiki_age, wiki_genders, wiki_path, wiki_face_score1, wiki_face_score2)).T\n",
    "\n",
    "final_imdb_df = pd.DataFrame(final_imdb)\n",
    "final_wiki_df = pd.DataFrame(final_wiki)\n",
    "\n",
    "final_imdb_df.columns = cols\n",
    "final_wiki_df.columns = cols\n",
    "\n",
    "meta = pd.concat((final_imdb_df, final_wiki_df))\n",
    "meta = meta[meta['face_score1'] != '-inf']\n",
    "meta = meta[meta['face_score2'] == 'nan']\n",
    "meta = meta.drop(['face_score1', 'face_score2'], axis=1)\n",
    "meta = meta.sample(frac=1)\n",
    "\n",
    "meta.to_csv('meta.csv', index=False)\n"
   ]
  },
  {
   "cell_type": "markdown",
   "metadata": {
    "colab_type": "text",
    "id": "QonMQ7G8b305"
   },
   "source": [
    "Reread meta.csv file and surveying some information"
   ]
  },
  {
   "cell_type": "code",
   "execution_count": null,
   "metadata": {
    "colab": {
     "base_uri": "https://localhost:8080/",
     "height": 204
    },
    "colab_type": "code",
    "executionInfo": {
     "elapsed": 1713,
     "status": "ok",
     "timestamp": 1583717433394,
     "user": {
      "displayName": "Trần Lý",
      "photoUrl": "https://lh3.googleusercontent.com/a-/AOh14Gin8PsaWwVkSBWAfbuRyRJ7NHX5LlPgmxAqQO5q7A=s64",
      "userId": "11587077078896512227"
     },
     "user_tz": -420
    },
    "id": "4_H4vSvGb30-",
    "outputId": "b49354c1-b5f4-4022-8f56-917ba29ea068"
   },
   "outputs": [],
   "source": [
    "df = pd.read_csv(\"/home/tranlysfw/age_gender_prediction/meta.csv\")\n",
    "df.head()"
   ]
  },
  {
   "cell_type": "code",
   "execution_count": null,
   "metadata": {
    "colab": {},
    "colab_type": "code",
    "id": "G4G_NkhLcILK"
   },
   "outputs": [],
   "source": [
    "file_path = np.array(df['path'])\n",
    "imdb_age = np.array(df['age'])\n",
    "imdb_gender = np.array(df['gender'])"
   ]
  },
  {
   "cell_type": "markdown",
   "metadata": {
    "colab_type": "text",
    "id": "huwKCiktb31K"
   },
   "source": [
    "## Split images in wiki dataset to age and gender folders"
   ]
  },
  {
   "cell_type": "markdown",
   "metadata": {
    "colab_type": "text",
    "id": "4PqKJZyjb31P"
   },
   "source": [
    "Define the root of wiki dataset"
   ]
  },
  {
   "cell_type": "code",
   "execution_count": null,
   "metadata": {
    "colab": {},
    "colab_type": "code",
    "id": "fBAO0QWDnwUk"
   },
   "outputs": [],
   "source": [
    "imdb_path = pathlib.Path(\"/home/tranlysfw/age_gender_prediction/dataset/imdb\")\n",
    "imdb_male = pathlib.Path(\"/home/tranlysfw/age_gender_prediction/dataset/imdb/gender/male\")\n",
    "imdb_female = pathlib.Path(\"/home/tranlysfw/age_gender_prediction/dataset/imdb/gender/female\")\n",
    "imdb_age_path = pathlib.Path(\"/home/tranlysfw/age_gender_prediction/dataset/imdb/age\")"
   ]
  },
  {
   "cell_type": "markdown",
   "metadata": {
    "colab_type": "text",
    "id": "JPvtwzq6cXdB"
   },
   "source": [
    "## Run script"
   ]
  },
  {
   "cell_type": "code",
   "execution_count": null,
   "metadata": {
    "colab": {
     "base_uri": "https://localhost:8080/",
     "height": 295
    },
    "colab_type": "code",
    "executionInfo": {
     "elapsed": 943,
     "status": "error",
     "timestamp": 1583717449688,
     "user": {
      "displayName": "Trần Lý",
      "photoUrl": "https://lh3.googleusercontent.com/a-/AOh14Gin8PsaWwVkSBWAfbuRyRJ7NHX5LlPgmxAqQO5q7A=s64",
      "userId": "11587077078896512227"
     },
     "user_tz": -420
    },
    "id": "HZ5Re0GwoLZ8",
    "outputId": "f40aa879-054c-4e88-9a57-63505bd2e617"
   },
   "outputs": [],
   "source": [
    "i = 0\n",
    "j = 170000\n",
    "alpha = 1.5\n",
    "face_count = 0\n",
    "start = time.time()\n",
    "previous = time.time()\n",
    "\n",
    "for elem in file_path[i:]:\n",
    "#     print(\"i\", i)\n",
    "    # print(\"name\",elem)\n",
    "    dataset = elem.split(\"/\")[0]\n",
    "    \n",
    "\n",
    "    if dataset == \"imdb_crop\":\n",
    "        abs_file_path = pathlib.Path(imdb_path, elem)\n",
    "\n",
    "#         print(\"link\", abs_file_path)\n",
    "        img = cv2.imread(str(abs_file_path.absolute()))\n",
    "\n",
    "        if img is not None:\n",
    "          \n",
    "            height, width, channel = img.shape\n",
    "            face_locations = face_recognition.face_locations(img)\n",
    "\n",
    "            for face in face_locations:\n",
    "                # print(\"face detected\")\n",
    "                face_count += 1\n",
    "                top, right, bottom, left = face  \n",
    "                center_y, center_x = int((top + bottom) / 2), int((right + left) / 2)\n",
    "                border = int((right - left) * alpha)\n",
    "              \n",
    "                x_right, y_up = int(center_x + border / 2), int(center_y - border / 2)\n",
    "                x_left, y_down = int(center_x - border / 2), int(center_y + border / 2)\n",
    "                \n",
    "                if x_left > 0 and x_left + border < width and y_up > 0 and y_up + border < height:\n",
    "                    crop_face = img[y_up: y_up + border, x_left: x_left + border]\n",
    "                    resized = cv2.resize(crop_face, (224, 224), interpolation=cv2.INTER_AREA)\n",
    "                \n",
    "                    if imdb_gender[i] == \"male\":\n",
    "                        path = pathlib.Path(imdb_male, elem.split(\"/\")[2])\n",
    "                        # print(\"save\",path)\n",
    "                        cv2.imwrite(str(path), resized)\n",
    "                    elif imdb_gender[i] == \"female\":\n",
    "                        path = pathlib.Path(imdb_female, elem.split(\"/\")[2])\n",
    "                        # print(\"save\",path)\n",
    "                        cv2.imwrite(str(path), resized)\n",
    "\n",
    "                    path_age = \"\"\n",
    "                  \n",
    "                    age = imdb_age[i]\n",
    "                    # print(\"age\",age)\n",
    "                    if age <= 10:\n",
    "                        path_age= pathlib.Path(imdb_age_path, \"0\",elem.split(\"/\")[2])\n",
    "                    elif age > 10 and age <= 20:\n",
    "                        path_age= pathlib.Path(imdb_age_path, \"1\",elem.split(\"/\")[2])\n",
    "                    elif age > 20 and age <= 30:\n",
    "                        path_age= pathlib.Path(imdb_age_path, \"2\",elem.split(\"/\")[2])\n",
    "                    elif age > 30 and age <= 40:\n",
    "                        path_age= pathlib.Path(imdb_age_path, \"3\",elem.split(\"/\")[2])\n",
    "                    elif age > 40 and age <= 50:\n",
    "                        path_age= pathlib.Path(imdb_age_path, \"4\",elem.split(\"/\")[2])\n",
    "                    elif age > 50 and age <= 60:\n",
    "                        path_age= pathlib.Path(imdb_age_path, \"5\",elem.split(\"/\")[2])\n",
    "                    elif age > 60 and age <= 70:\n",
    "                        path_age= pathlib.Path(imdb_age_path, \"6\",elem.split(\"/\")[2])\n",
    "                    elif age > 70:\n",
    "                        path_age= pathlib.Path(imdb_age_path, \"7\",elem.split(\"/\")[2])\n",
    "\n",
    "                    cv2.imwrite(str(path_age), resized)\n",
    "      \n",
    "    i += 1\n",
    "    if i % 1000 == 0:\n",
    "      print(i)\n",
    "      print(\"Face count\", face_count)\n",
    "      print(\"epoch\", time.time() - previous)\n",
    "      previous = time.time()\n",
    "\n",
    "end = time.time()\n",
    "print(\"Time elapse: \", end - start)\n",
    "      "
   ]
  },
  {
   "cell_type": "markdown",
   "metadata": {},
   "source": [
    "<br>"
   ]
  },
  {
   "cell_type": "markdown",
   "metadata": {},
   "source": [
    "## Test imdb dataset"
   ]
  },
  {
   "cell_type": "markdown",
   "metadata": {},
   "source": [
    "Counting files after preprocessed"
   ]
  },
  {
   "cell_type": "code",
   "execution_count": null,
   "metadata": {},
   "outputs": [],
   "source": [
    "len(glob.glob(\"/home/tranlysfw/age_gender_prediction/dataset/imdb/gender/*/*.jpg\"))"
   ]
  },
  {
   "cell_type": "markdown",
   "metadata": {},
   "source": [
    "Checking image from dataset"
   ]
  },
  {
   "cell_type": "code",
   "execution_count": null,
   "metadata": {},
   "outputs": [],
   "source": [
    "img_test = list(glob.glob(\"/home/tranlysfw/age_gender_prediction/dataset/imdb/gender/female/*.jpg\", recursive=True))"
   ]
  },
  {
   "cell_type": "code",
   "execution_count": null,
   "metadata": {},
   "outputs": [],
   "source": [
    "test = cv2.imread(img_test[10])\n",
    "plt.imshow(test)"
   ]
  },
  {
   "cell_type": "markdown",
   "metadata": {},
   "source": [
    "<br>"
   ]
  },
  {
   "cell_type": "markdown",
   "metadata": {},
   "source": [
    "# Asian"
   ]
  },
  {
   "cell_type": "markdown",
   "metadata": {},
   "source": [
    "The file names include age only, information of gender will be pulled from other files."
   ]
  },
  {
   "cell_type": "markdown",
   "metadata": {},
   "source": [
    "## Split file names "
   ]
  },
  {
   "cell_type": "code",
   "execution_count": null,
   "metadata": {},
   "outputs": [],
   "source": [
    "project_path = pathlib.Path('D:\\\\01_PYTHON\\\\05_CoderS\\\\78_Ads_Targeted_Audience')\n",
    "asian_folder_wild = pathlib.Path(os.path.join(project_path, \"datasets//Asian//Asian//original images\"))\n",
    "asian_preprocess = pathlib.Path(\"D:\\\\01_PYTHON\\\\05_CoderS\\\\78_Ads_Targeted_Audience\\\\datasets\\\\Asian\\\\preprocess\")\n",
    "asian_male = pathlib.Path(os.path.join(asian_preprocess), \"gender\\\\male\\\\\")\n",
    "asian_female = pathlib.Path(os.path.join(asian_preprocess), \"gender\\\\female\\\\\")\n",
    "asian_age_path = pathlib.Path(\"D:\\\\01_PYTHON\\\\05_CoderS\\\\78_Ads_Targeted_Audience\\\\datasets\\\\Asian\\\\preprocess\\\\age\")"
   ]
  },
  {
   "cell_type": "markdown",
   "metadata": {},
   "source": [
    "Preprocess information file, we will have the all.csv file with two columns: file_name and gender"
   ]
  },
  {
   "cell_type": "code",
   "execution_count": null,
   "metadata": {},
   "outputs": [],
   "source": [
    "df = pd.read_csv(\"D:\\\\01_PYTHON\\\\05_CoderS\\\\78_Ads_Targeted_Audience\\\\datasets\\\\Asian\\\\Asian\\\\image sets\\\\all.csv\",)"
   ]
  },
  {
   "cell_type": "code",
   "execution_count": null,
   "metadata": {},
   "outputs": [],
   "source": [
    "file_name = df[\"file\"]\n",
    "gender = df[\"gender\"]"
   ]
  },
  {
   "cell_type": "markdown",
   "metadata": {},
   "source": [
    "##  Crop and save preprocessed images"
   ]
  },
  {
   "cell_type": "code",
   "execution_count": null,
   "metadata": {},
   "outputs": [],
   "source": [
    "img_paths = []\n",
    "asian_age = []\n",
    "asian_gender = []\n",
    "i = 0\n",
    "alpha = 1.5\n",
    "\n",
    "for elem in file_name:\n",
    "    abs_file_path = pathlib.Path(os.path.join(asian_folder_wild), elem)\n",
    "    img = cv2.imread(str(abs_file_path.absolute()))\n",
    "    height, width, channel = img.shape\n",
    "    \n",
    "    face_locations = face_recognition.face_locations(img)\n",
    "    \n",
    "    for face in face_locations:\n",
    "        top, right, bottom, left = face  \n",
    "        center_y, center_x = int((top + bottom) / 2), int((right + left) / 2)\n",
    "        border = int((right - left) * alpha)\n",
    "        \n",
    "        x_right, y_up = int(center_x + border / 2), int(center_y - border / 2)\n",
    "        x_left, y_down = int(center_x - border / 2), int(center_y + border / 2)\n",
    "        \n",
    "        if x_left > 0 and x_left + border < width and y_up > 0 and y_up + border < height:\n",
    "            crop_face = img[y_up: y_up + border, x_left: x_left + border]\n",
    "            resized = cv2.resize(crop_face, (224, 224), interpolation=cv2.INTER_AREA)\n",
    "            \n",
    "            filename_splited = elem.split(\"A\")\n",
    "            asian_age = int(filename_splited[1].split(\".\")[0])\n",
    "            asian_gender = int(gender[i])\n",
    "#             print(asian_gender)\n",
    "            \n",
    "            if asian_gender == 0:\n",
    "                path = pathlib.Path(os.path.join(asian_female), elem)\n",
    "#                 print(path)\n",
    "                cv2.imwrite(str(path), resized)\n",
    "            elif asian_gender == 1:\n",
    "                path = pathlib.Path(os.path.join(asian_male), elem)\n",
    "#                 print(path)\n",
    "                cv2.imwrite(str(path), resized)\n",
    "                \n",
    "            path_age = \"\"\n",
    "            if asian_age <= 10:\n",
    "                path_age= pathlib.Path(os.path.join(asian_age_path), \"0\", elem.name)\n",
    "            elif asian_age > 10 and asian_age <= 20:\n",
    "                path_age= pathlib.Path(os.path.join(asian_age_path), \"1\", elem.name)\n",
    "            elif asian_age > 20 and asian_age <= 30:\n",
    "                path_age= pathlib.Path(os.path.join(asian_age_path), \"2\", elem.name)\n",
    "            elif asian_age > 30 and asian_age <= 40:\n",
    "                path_age= pathlib.Path(os.path.join(asian_age_path), \"3\", elem.name)\n",
    "            elif asian_age > 40 and asian_age <= 50:\n",
    "                path_age= pathlib.Path(os.path.join(asian_age_path), \"4\", elem.name)\n",
    "            elif asian_age > 50 and asian_age <= 60:\n",
    "                path_age= pathlib.Path(os.path.join(asian_age_path), \"5\", elem.name)\n",
    "            elif asian_age > 60 and asian_age <= 70:\n",
    "                path_age= pathlib.Path(os.path.join(asian_age_path), \"6\", elem.name)\n",
    "            elif asian_age > 70:\n",
    "                path_age= pathlib.Path(os.path.join(asian_age_path), \"7\", elem.name)\n",
    "                \n",
    "            cv2.imwrite(str(path_age), resized)\n",
    "            \n",
    "    i += 1\n",
    "    if i % 200 == 0: \n",
    "        print(i)"
   ]
  },
  {
   "cell_type": "markdown",
   "metadata": {},
   "source": [
    "<br>"
   ]
  },
  {
   "cell_type": "markdown",
   "metadata": {
    "colab_type": "text",
    "id": "lUumHVoVc2PR"
   },
   "source": [
    "# Reference"
   ]
  },
  {
   "cell_type": "markdown",
   "metadata": {
    "colab_type": "text",
    "id": "OfiF1RUCc4bH"
   },
   "source": [
    "https://github.com/imdeepmind/processed-imdb-wiki-dataset"
   ]
  }
 ],
 "metadata": {
  "accelerator": "GPU",
  "colab": {
   "collapsed_sections": [
    "c9GpB9ylVXOi"
   ],
   "name": "Age_Gender_Preprocess.ipynb",
   "provenance": [],
   "toc_visible": true
  },
  "kernelspec": {
   "display_name": "Python 3",
   "language": "python",
   "name": "python3"
  },
  "language_info": {
   "codemirror_mode": {
    "name": "ipython",
    "version": 3
   },
   "file_extension": ".py",
   "mimetype": "text/x-python",
   "name": "python",
   "nbconvert_exporter": "python",
   "pygments_lexer": "ipython3",
   "version": "3.7.4"
  },
  "toc": {
   "base_numbering": 1,
   "nav_menu": {},
   "number_sections": true,
   "sideBar": true,
   "skip_h1_title": false,
   "title_cell": "Table of Contents",
   "title_sidebar": "Contents",
   "toc_cell": false,
   "toc_position": {
    "height": "calc(100% - 180px)",
    "left": "10px",
    "top": "150px",
    "width": "256px"
   },
   "toc_section_display": true,
   "toc_window_display": true
  }
 },
 "nbformat": 4,
 "nbformat_minor": 1
}
